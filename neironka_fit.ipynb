{
 "cells": [
  {
   "cell_type": "code",
   "execution_count": 3,
   "id": "e254a7b4",
   "metadata": {},
   "outputs": [
    {
     "name": "stdout",
     "output_type": "stream",
     "text": [
      "Mean Squared Error: 0.47872636816146963\n"
     ]
    }
   ],
   "source": [
    "import pandas as pd\n",
    "from sklearn.model_selection import train_test_split\n",
    "from sklearn.preprocessing import StandardScaler\n",
    "from sklearn.neural_network import MLPRegressor\n",
    "from sklearn.metrics import mean_squared_error\n",
    "import pickle\n",
    "\n",
    "# Загрузка данных\n",
    "data = pd.read_csv('C:\\\\Users\\\\Пользователь\\\\Desktop\\\\РГР_ML\\\\data\\\\balanced_diabetes_data.csv')\n",
    "\n",
    "# Определение признаков и целевой переменной\n",
    "X = data.drop('Diabetes_012', axis=1)\n",
    "y = data['Diabetes_012']\n",
    "\n",
    "# Разделение на тренировочную и тестовую выборки\n",
    "X_train, X_test, y_train, y_test = train_test_split(X, y, test_size=0.2, random_state=42, stratify=y)\n",
    "\n",
    "# Масштабирование данных\n",
    "scaler = StandardScaler()\n",
    "X_train_scaled = scaler.fit_transform(X_train)\n",
    "X_test_scaled = scaler.transform(X_test)\n",
    "\n",
    "# Создание и обучение модели MLP с оптимизатором Adam\n",
    "mlp_reg = MLPRegressor(\n",
    "    hidden_layer_sizes=(100, 50),  # Архитектура сети: 2 скрытых слоя с 100 и 50 нейронами\n",
    "    activation='relu',            # Функция активации\n",
    "    solver='adam',                # Оптимизатор Adam\n",
    "    alpha=0.0001,                # Параметр регуляризации\n",
    "    batch_size='auto',           # Размер батча\n",
    "    learning_rate='constant',    # Тип обучения\n",
    "    learning_rate_init=0.001,    # Начальная скорость обучения\n",
    "    max_iter=200,               # Максимальное количество итераций\n",
    "    random_state=42,\n",
    "    early_stopping=True,         # Ранняя остановка при отсутствии улучшений\n",
    "    validation_fraction=0.1      # Доля данных для валидации\n",
    ")\n",
    "\n",
    "mlp_reg.fit(X_train_scaled, y_train)\n",
    "\n",
    "# Предсказание на тестовой выборке\n",
    "y_pred = mlp_reg.predict(X_test_scaled)\n",
    "\n",
    "# Оценка модели\n",
    "mse = mean_squared_error(y_test, y_pred)\n",
    "print(f\"Mean Squared Error: {mse}\")\n",
    "\n",
    "# Сохранение модели\n",
    "with open('mlp_adam_model.pkl', 'wb') as f:\n",
    "    pickle.dump(mlp_reg, f)\n",
    "\n",
    "# Сохранение scaler (важно для предобработки новых данных)\n",
    "with open('scaler.pkl', 'wb') as f:\n",
    "    pickle.dump(scaler, f)\n",
    "\n",
    "# Загрузка модели (пример)\n",
    "with open('mlp_adam_model.pkl', 'rb') as f:\n",
    "    loaded_model = pickle.load(f)\n",
    "\n",
    "# Загрузка scaler (пример)\n",
    "with open('scaler.pkl', 'rb') as f:\n",
    "    loaded_scaler = pickle.load(f)"
   ]
  }
 ],
 "metadata": {
  "kernelspec": {
   "display_name": "Python 3",
   "language": "python",
   "name": "python3"
  },
  "language_info": {
   "codemirror_mode": {
    "name": "ipython",
    "version": 3
   },
   "file_extension": ".py",
   "mimetype": "text/x-python",
   "name": "python",
   "nbconvert_exporter": "python",
   "pygments_lexer": "ipython3",
   "version": "3.10.11"
  }
 },
 "nbformat": 4,
 "nbformat_minor": 5
}
